{
 "cells": [
  {
   "cell_type": "code",
   "execution_count": 3,
   "id": "a643160d-0e5a-4135-b10f-ad33a841be8e",
   "metadata": {},
   "outputs": [
    {
     "name": "stdout",
     "output_type": "stream",
     "text": [
      "Tweets due for update now: 1321\n"
     ]
    }
   ],
   "source": [
    "import sqlite3\n",
    "\n",
    "conn = sqlite3.connect(\"../tweets.db\")\n",
    "c = conn.cursor()\n",
    "\n",
    "c.execute(\"SELECT COUNT(*) FROM tweets WHERE next_update_ts <= datetime('now')\")\n",
    "count = c.fetchone()[0]\n",
    "print(f\"Tweets due for update now: {count}\")"
   ]
  },
  {
   "cell_type": "code",
   "execution_count": 4,
   "id": "960d46b8-862f-4288-8236-11a136fe453d",
   "metadata": {},
   "outputs": [
    {
     "name": "stdout",
     "output_type": "stream",
     "text": [
      "Top 5 latest scheduled tweets:\n",
      "('1917469776110092667', '2025-04-30 06:43:32')\n",
      "('1917469724683702690', '2025-04-30 06:43:06')\n",
      "('1917469704576282869', '2025-04-30 06:43:01')\n",
      "('1917469686016491608', '2025-04-30 06:43:00')\n",
      "('1917468915581472926', '2025-04-30 06:40:05')\n"
     ]
    }
   ],
   "source": [
    "c.execute(\"SELECT tweet_id, next_update_ts FROM tweets ORDER BY next_update_ts DESC LIMIT 5\")\n",
    "rows = c.fetchall()\n",
    "print(\"Top 5 latest scheduled tweets:\")\n",
    "for row in rows:\n",
    "    print(row)"
   ]
  },
  {
   "cell_type": "code",
   "execution_count": 5,
   "id": "0c7e61ff-08e0-43e3-a525-08166f4650ae",
   "metadata": {},
   "outputs": [
    {
     "name": "stdout",
     "output_type": "stream",
     "text": [
      "Total tweets in DB: 1321\n"
     ]
    }
   ],
   "source": [
    "c.execute(\"SELECT COUNT(*) FROM tweets\")\n",
    "total = c.fetchone()[0]\n",
    "print(f\"Total tweets in DB: {total}\")"
   ]
  },
  {
   "cell_type": "code",
   "execution_count": null,
   "id": "4d666cfe-ae88-4bde-bc9f-4ae628349b9e",
   "metadata": {},
   "outputs": [],
   "source": []
  }
 ],
 "metadata": {
  "kernelspec": {
   "display_name": "Python 3 (ipykernel)",
   "language": "python",
   "name": "python3"
  },
  "language_info": {
   "codemirror_mode": {
    "name": "ipython",
    "version": 3
   },
   "file_extension": ".py",
   "mimetype": "text/x-python",
   "name": "python",
   "nbconvert_exporter": "python",
   "pygments_lexer": "ipython3",
   "version": "3.12.4"
  }
 },
 "nbformat": 4,
 "nbformat_minor": 5
}
